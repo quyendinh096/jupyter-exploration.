{
 "cells": [
  {
   "cell_type": "markdown",
   "id": "ff8b6007-7fe6-4360-baa4-5df304207a4d",
   "metadata": {},
   "source": [
    "My first markdown cell in Jupiter"
   ]
  },
  {
   "cell_type": "code",
   "execution_count": 1,
   "id": "c47c4fbb-05a0-4071-a6c8-3b488c044378",
   "metadata": {},
   "outputs": [
    {
     "ename": "SyntaxError",
     "evalue": "unterminated string literal (detected at line 1) (4074548660.py, line 1)",
     "output_type": "error",
     "traceback": [
      "\u001b[1;36m  Cell \u001b[1;32mIn[1], line 1\u001b[1;36m\u001b[0m\n\u001b[1;33m    print(\"Hello,World!)\u001b[0m\n\u001b[1;37m          ^\u001b[0m\n\u001b[1;31mSyntaxError\u001b[0m\u001b[1;31m:\u001b[0m unterminated string literal (detected at line 1)\n"
     ]
    }
   ],
   "source": [
    "print(\"Hello,World!)"
   ]
  },
  {
   "cell_type": "code",
   "execution_count": null,
   "id": "ad97701a-8fcd-4a14-8a8f-40041b9c026e",
   "metadata": {},
   "outputs": [],
   "source": []
  }
 ],
 "metadata": {
  "kernelspec": {
   "display_name": "Python 3 (ipykernel)",
   "language": "python",
   "name": "python3"
  },
  "language_info": {
   "codemirror_mode": {
    "name": "ipython",
    "version": 3
   },
   "file_extension": ".py",
   "mimetype": "text/x-python",
   "name": "python",
   "nbconvert_exporter": "python",
   "pygments_lexer": "ipython3",
   "version": "3.12.3"
  }
 },
 "nbformat": 4,
 "nbformat_minor": 5
}
